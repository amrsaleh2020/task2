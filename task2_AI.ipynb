{
 "cells": [
  {
   "cell_type": "code",
   "execution_count": 1,
   "id": "0382dbad",
   "metadata": {
    "ExecuteTime": {
     "end_time": "2022-08-07T14:36:04.924482Z",
     "start_time": "2022-08-07T14:36:04.878481Z"
    }
   },
   "outputs": [
    {
     "name": "stdout",
     "output_type": "stream",
     "text": [
      "[1505, 1540, 1575, 1610, 1645, 1680, 1715, 1750, 1785, 1820, 1855, 1890, 1925, 1960, 1995, 2030, 2065, 2100, 2135, 2170, 2205, 2240, 2275, 2310, 2345, 2380, 2415, 2450, 2485, 2520, 2555, 2590, 2625, 2660, 2695]\n"
     ]
    }
   ],
   "source": [
    "#question -1\n",
    "n1=[]\n",
    "for x in range(1500,2700):\n",
    "    if x%7==0 and x%5==0:\n",
    "        n1.append(x)\n",
    "print(n1)"
   ]
  },
  {
   "cell_type": "code",
   "execution_count": 2,
   "id": "6a7cdaac",
   "metadata": {
    "ExecuteTime": {
     "end_time": "2022-08-07T14:36:37.193480Z",
     "start_time": "2022-08-07T14:36:32.078480Z"
    }
   },
   "outputs": [
    {
     "name": "stdout",
     "output_type": "stream",
     "text": [
      "Enter the temperature: 35\n",
      "Enter unit('C' for Celsius and 'F' for Fahrenheit): f\n",
      "Temperature in celsuis=  1.6666666666666665\n"
     ]
    }
   ],
   "source": [
    "#question -2\n",
    "temp = float(input(\"Enter the temperature: \"))\n",
    "unit = input(\"Enter unit('C' for Celsius and 'F' for Fahrenheit): \")\n",
    "if unit=='c' or unit=='C':\n",
    "    newTemp= temp/5*9+32\n",
    "    print(\"Temperature in Fahrenheit= \", newTemp)\n",
    "elif unit=='f' or unit == 'F':\n",
    "    newTemp= (temp-32)/9*5\n",
    "    print(\"Temperature in celsuis= \", newTemp)\n",
    "else:\n",
    "    print(\"please enter vaild unit\")"
   ]
  },
  {
   "cell_type": "code",
   "execution_count": 3,
   "id": "8a4410d6",
   "metadata": {
    "ExecuteTime": {
     "end_time": "2022-08-07T14:36:55.020481Z",
     "start_time": "2022-08-07T14:36:54.992482Z"
    }
   },
   "outputs": [
    {
     "name": "stdout",
     "output_type": "stream",
     "text": [
      "\n",
      "* \n",
      "* * \n",
      "* * * \n",
      "* * * * \n",
      "* * * * * \n",
      "* * * * \n",
      "* * * \n",
      "* * \n",
      "* \n"
     ]
    }
   ],
   "source": [
    "#question -3\n",
    "n=5;\n",
    "for i in range(n):\n",
    "    for j in range(i):\n",
    "        print ('* ', end=\"\")\n",
    "    print('')\n",
    "\n",
    "for i in range(n,0,-1):\n",
    "    for j in range(i):\n",
    "        print('* ', end=\"\")\n",
    "    print('')"
   ]
  },
  {
   "cell_type": "code",
   "execution_count": 4,
   "id": "6da4004c",
   "metadata": {
    "ExecuteTime": {
     "end_time": "2022-08-07T14:37:16.006717Z",
     "start_time": "2022-08-07T14:37:11.301720Z"
    }
   },
   "outputs": [
    {
     "name": "stdout",
     "output_type": "stream",
     "text": [
      "enteramr\n",
      "r\n",
      "m\n",
      "a\n"
     ]
    }
   ],
   "source": [
    "#question -4\n",
    "word=input(\"enter\")\n",
    "for i in range(len(word)-1,-1,-1):\n",
    "    print(word[i])"
   ]
  },
  {
   "cell_type": "code",
   "execution_count": 5,
   "id": "436630cf",
   "metadata": {
    "ExecuteTime": {
     "end_time": "2022-08-07T14:37:30.694718Z",
     "start_time": "2022-08-07T14:37:30.675720Z"
    }
   },
   "outputs": [
    {
     "name": "stdout",
     "output_type": "stream",
     "text": [
      "7\n"
     ]
    }
   ],
   "source": [
    "#question -5\n",
    "def max(num1,num2,num3):\n",
    "    if num1 > num2 and num1 > num3:\n",
    "        return num1\n",
    "    elif num2 > num1 and num2 > num3:\n",
    "        return num2\n",
    "    else:\n",
    "        return num3\n",
    "\n",
    "\n",
    "\n",
    "print(max(5,6,7))\n"
   ]
  },
  {
   "cell_type": "code",
   "execution_count": 6,
   "id": "44115515",
   "metadata": {
    "ExecuteTime": {
     "end_time": "2022-08-07T14:37:44.247687Z",
     "start_time": "2022-08-07T14:37:44.223687Z"
    }
   },
   "outputs": [
    {
     "name": "stdout",
     "output_type": "stream",
     "text": [
      "74\n"
     ]
    }
   ],
   "source": [
    "#question -6\n",
    "list1 = [11, 5, 17, 18, 23]\n",
    "\n",
    "\n",
    "def sumOfList(lst, size):\n",
    "    if size == 0:\n",
    "        return 0\n",
    "    else:\n",
    "        return lst[size - 1] + sumOfList(lst, size - 1)\n",
    "\n",
    "\n",
    "total = sumOfList(list1, len(list1))\n",
    "\n",
    "print(total)"
   ]
  },
  {
   "cell_type": "code",
   "execution_count": 7,
   "id": "d6d7178d",
   "metadata": {
    "ExecuteTime": {
     "end_time": "2022-08-07T14:37:57.930725Z",
     "start_time": "2022-08-07T14:37:57.911719Z"
    }
   },
   "outputs": [
    {
     "name": "stdout",
     "output_type": "stream",
     "text": [
      "0\n",
      "1\n",
      "2\n",
      "4\n",
      "5\n"
     ]
    }
   ],
   "source": [
    "#question -7\n",
    "for num in range(7):\n",
    "    if num==3 or num==6:\n",
    "        continue\n",
    "    else:\n",
    "        print(num)"
   ]
  },
  {
   "cell_type": "code",
   "execution_count": 8,
   "id": "fc30ac98",
   "metadata": {
    "ExecuteTime": {
     "end_time": "2022-08-07T14:38:12.634719Z",
     "start_time": "2022-08-07T14:38:12.615719Z"
    }
   },
   "outputs": [
    {
     "name": "stdout",
     "output_type": "stream",
     "text": [
      "Factorial of 5 is 120\n"
     ]
    }
   ],
   "source": [
    "#question -8\n",
    "def factorial(n):\n",
    "    if n < 0:\n",
    "        return 0\n",
    "    elif n == 0 or n == 1:\n",
    "        return 1\n",
    "    else:\n",
    "        fact = 1\n",
    "        while(n > 1):\n",
    "            fact *= n\n",
    "            n -= 1\n",
    "        return fact\n",
    " \n",
    "\n",
    "num = 5;\n",
    "print(\"Factorial of\",num,\"is\",\n",
    "factorial(num))"
   ]
  },
  {
   "cell_type": "code",
   "execution_count": 9,
   "id": "2b256869",
   "metadata": {
    "ExecuteTime": {
     "end_time": "2022-08-07T14:38:25.690718Z",
     "start_time": "2022-08-07T14:38:25.676717Z"
    }
   },
   "outputs": [
    {
     "name": "stdout",
     "output_type": "stream",
     "text": [
      "[1, 2, 3]\n"
     ]
    }
   ],
   "source": [
    "#question -9\n",
    "def unique_list(numbers):\n",
    "    unique = []\n",
    "    for item in numbers :\n",
    "        if item not in unique:\n",
    "            unique.append(item)\n",
    "    return unique\n",
    "\n",
    "print(unique_list([1, 2, 3, 1, 2]))"
   ]
  },
  {
   "cell_type": "code",
   "execution_count": 10,
   "id": "f0715969",
   "metadata": {
    "ExecuteTime": {
     "end_time": "2022-08-07T14:38:41.254033Z",
     "start_time": "2022-08-07T14:38:41.237028Z"
    }
   },
   "outputs": [
    {
     "name": "stdout",
     "output_type": "stream",
     "text": [
      "Double the number of 15 = 30\n",
      "Triple the number of 15 = 45\n",
      "Quadruple the number of 15 = 60\n",
      "Quintuple the number 15 = 75\n"
     ]
    }
   ],
   "source": [
    "#question -10\n",
    "def func_compute(n):\n",
    " return lambda x : x * n\n",
    "result = func_compute(2)\n",
    "print(\"Double the number of 15 =\", result(15))\n",
    "result = func_compute(3)\n",
    "print(\"Triple the number of 15 =\", result(15))\n",
    "result = func_compute(4)\n",
    "print(\"Quadruple the number of 15 =\", result(15))\n",
    "result = func_compute(5)\n",
    "print(\"Quintuple the number 15 =\", result(15))"
   ]
  },
  {
   "cell_type": "code",
   "execution_count": null,
   "id": "162aa64b",
   "metadata": {},
   "outputs": [],
   "source": []
  }
 ],
 "metadata": {
  "kernelspec": {
   "display_name": "Python 3 (ipykernel)",
   "language": "python",
   "name": "python3"
  },
  "language_info": {
   "codemirror_mode": {
    "name": "ipython",
    "version": 3
   },
   "file_extension": ".py",
   "mimetype": "text/x-python",
   "name": "python",
   "nbconvert_exporter": "python",
   "pygments_lexer": "ipython3",
   "version": "3.9.7"
  }
 },
 "nbformat": 4,
 "nbformat_minor": 5
}
